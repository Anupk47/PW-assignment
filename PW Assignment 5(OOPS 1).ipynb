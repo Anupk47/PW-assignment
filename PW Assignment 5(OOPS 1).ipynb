{
 "cells": [
  {
   "attachments": {},
   "cell_type": "markdown",
   "metadata": {},
   "source": [
    "Q1. Explain Class and Object with respect to Object-Oriented Programming. Give a suitable example."
   ]
  },
  {
   "cell_type": "code",
   "execution_count": 11,
   "metadata": {},
   "outputs": [
    {
     "name": "stdout",
     "output_type": "stream",
     "text": [
      "The car is now running\n"
     ]
    }
   ],
   "source": [
    "#answer\n",
    "#Class is a blue print for creating objects\n",
    "#example\n",
    "class Car:\n",
    "    def __init__(self,brand,model,speed):\n",
    "        self.brand = brand\n",
    "        self.model = model\n",
    "        self.speed = 0\n",
    "        \n",
    "    def Drive(self):\n",
    "        print(\"The car is now running\")\n",
    "    \n",
    "        \n",
    "#Object is an instance of The Class\n",
    "My_car = Car('BMW','I8',90)\n",
    "My_car.Drive()\n",
    "        "
   ]
  },
  {
   "attachments": {},
   "cell_type": "markdown",
   "metadata": {},
   "source": [
    "Q2. Name the four pillars of OOPs."
   ]
  },
  {
   "attachments": {},
   "cell_type": "markdown",
   "metadata": {},
   "source": [
    "#answer\n",
    "THe four pillars of OOPS are:=\n",
    "\n",
    "1.Abstraction: the process of hiding the complex implementation details and showing only the necessary details\n",
    "\n",
    "2.Encapsulation: it is used to hide methods, data from public access\n",
    "\n",
    "3.inheritance: new class is created using base(parent class) or existing class(derived class) inhereting it's attributes and behaviours\n",
    "\n",
    "4.Polymorphism: The ability to take many forms, using same function/method but for different datatypes etc\n",
    "\n",
    "\n"
   ]
  },
  {
   "attachments": {},
   "cell_type": "markdown",
   "metadata": {},
   "source": [
    "Q3. Explain why the __init__() function is used. Give a suitable example"
   ]
  },
  {
   "cell_type": "code",
   "execution_count": 29,
   "metadata": {},
   "outputs": [],
   "source": [
    "#answer\n",
    "#__init__ is a constructor function which is used to initialize some variables automatically when the object is created\n",
    "\n",
    "class rectangle:\n",
    "    def __init__(self,length,breadth):\n",
    "        self.length = length\n",
    "        self.breadth = breadth\n",
    "    \n",
    "    def get_length(self):\n",
    "        return self.length   \n",
    "    \n",
    "    def get_breadth(self):\n",
    "        return self.breadth"
   ]
  },
  {
   "cell_type": "code",
   "execution_count": 30,
   "metadata": {},
   "outputs": [
    {
     "data": {
      "text/plain": [
       "20"
      ]
     },
     "execution_count": 30,
     "metadata": {},
     "output_type": "execute_result"
    }
   ],
   "source": [
    "abc = rectangle(100,20)\n",
    "abc.get_length()\n",
    "abc.get_breadth()"
   ]
  },
  {
   "attachments": {},
   "cell_type": "markdown",
   "metadata": {},
   "source": [
    "Q4. Why self is used in OOPs?"
   ]
  },
  {
   "cell_type": "code",
   "execution_count": 22,
   "metadata": {},
   "outputs": [],
   "source": [
    "#answer\n",
    "#self function is used to"
   ]
  },
  {
   "attachments": {},
   "cell_type": "markdown",
   "metadata": {},
   "source": [
    "Q5. What is inheritance? Give an example for each type of inheritance"
   ]
  },
  {
   "cell_type": "code",
   "execution_count": 51,
   "metadata": {},
   "outputs": [],
   "source": [
    "#answer\n",
    "#inheritance is a way to inherit behavior or property of parent/base class \n",
    "#types of inheritance are\n",
    "#single inheritance\n",
    "class class1:\n",
    "    def class_g(self):\n",
    "        return \"this is from class 1\"\n",
    "class class2(class1):\n",
    "    def class_f(self):\n",
    "        return \"this is from class 2\"    \n"
   ]
  },
  {
   "cell_type": "code",
   "execution_count": 53,
   "metadata": {},
   "outputs": [
    {
     "data": {
      "text/plain": [
       "'this is from class 2'"
      ]
     },
     "execution_count": 53,
     "metadata": {},
     "output_type": "execute_result"
    }
   ],
   "source": [
    "obj = class2()\n",
    "obj.class_g()\n",
    "obj.class_f()"
   ]
  },
  {
   "cell_type": "code",
   "execution_count": 56,
   "metadata": {},
   "outputs": [
    {
     "data": {
      "text/plain": [
       "'this is from class 2'"
      ]
     },
     "execution_count": 56,
     "metadata": {},
     "output_type": "execute_result"
    }
   ],
   "source": [
    "#mulitple inheritance\n",
    "class class1:\n",
    "    def class_g(self):\n",
    "        return \"this is from class 1\"\n",
    "class class2(class1):\n",
    "    def class_f(self):\n",
    "        return \"this is from class 2\"    \n",
    "class class3(class2):\n",
    "    pass\n",
    "\n",
    "\n",
    "obj2 = class3()\n",
    "obj.class_f()"
   ]
  },
  {
   "cell_type": "code",
   "execution_count": 59,
   "metadata": {},
   "outputs": [
    {
     "data": {
      "text/plain": [
       "'this is from class1'"
      ]
     },
     "execution_count": 59,
     "metadata": {},
     "output_type": "execute_result"
    }
   ],
   "source": [
    "#mulitlevel inheritance\n",
    "class class1:\n",
    "  def class_g(self):\n",
    "      return \"this is from class1\"\n",
    "  \n",
    "class class2:\n",
    "    def class_t(self):\n",
    "        return \"this is from class2\"\n",
    "\n",
    "class class3(class1,class2):\n",
    "    pass\n",
    "\n",
    "\n",
    "obj3 = class3()\n",
    "obj3.class_g()  "
   ]
  },
  {
   "cell_type": "code",
   "execution_count": null,
   "metadata": {},
   "outputs": [],
   "source": []
  }
 ],
 "metadata": {
  "kernelspec": {
   "display_name": "Python 3",
   "language": "python",
   "name": "python3"
  },
  "language_info": {
   "codemirror_mode": {
    "name": "ipython",
    "version": 3
   },
   "file_extension": ".py",
   "mimetype": "text/x-python",
   "name": "python",
   "nbconvert_exporter": "python",
   "pygments_lexer": "ipython3",
   "version": "3.11.4"
  },
  "orig_nbformat": 4,
  "vscode": {
   "interpreter": {
    "hash": "c261aea317cc0286b3b3261fbba9abdec21eaa57589985bb7a274bf54d6cc0a7"
   }
  }
 },
 "nbformat": 4,
 "nbformat_minor": 2
}
