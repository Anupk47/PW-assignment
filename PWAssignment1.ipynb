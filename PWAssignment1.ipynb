{
 "cells": [
  {
   "cell_type": "markdown",
   "id": "dfbd7743",
   "metadata": {},
   "source": [
    "Q1. Create one variable containing following type of data: \n",
    "1.string\n",
    "2.list\n",
    "3.float\n",
    "4.tuple"
   ]
  },
  {
   "cell_type": "code",
   "execution_count": 11,
   "id": "8bb8dc28",
   "metadata": {},
   "outputs": [],
   "source": [
    "Answers Q1:\n",
    "#string\n",
    "Name = \"1ststring\"\n",
    "#list\n",
    "Student = [\"Anup\", \"Jonko\",\"Avinash\"]\n",
    "#float\n",
    "pi_value = 3.14\n",
    "#tuple\n",
    "done = (\"student\", 21, \"bro\")"
   ]
  },
  {
   "cell_type": "code",
   "execution_count": 21,
   "id": "ab2ed322",
   "metadata": {},
   "outputs": [
    {
     "name": "stdout",
     "output_type": "stream",
     "text": [
      "1ststring ['Anup', 'Jonko', 'Avinash'] 3.14 ('student', 21, 'bro')\n"
     ]
    }
   ],
   "source": [
    "print(Name, Student,pi_value,done)"
   ]
  },
  {
   "cell_type": "markdown",
   "id": "d9fbb797",
   "metadata": {},
   "source": [
    "Q2. Given are some following variables containing data:\n",
    "(i) var1 = ‘ ‘\n",
    "(ii) var2 = ‘[ DS , ML , Python]’\n",
    "(iii) var3 = ['DS', 'ML', 'Pyhton']\n",
    "(iv) var4 = 1.\n",
    "What will be the data type of the above given variables"
   ]
  },
  {
   "cell_type": "markdown",
   "id": "267b8352",
   "metadata": {},
   "source": [
    "Answers Q2: \n",
    "1. string\n",
    "2. String\n",
    "3. List\n",
    "4. int"
   ]
  },
  {
   "cell_type": "markdown",
   "id": "7f2ea8be",
   "metadata": {},
   "source": [
    "Q3. Explain the use of the following operations usinig an example\n",
    "1./\n",
    "2.%\n",
    "3.//\n",
    "4.**"
   ]
  },
  {
   "cell_type": "code",
   "execution_count": 27,
   "id": "32acc769",
   "metadata": {},
   "outputs": [],
   "source": [
    "#Answers Q3:\n",
    "#1. / is used for diving two numbers\n",
    "div = 100 / 4\n",
    "#2. % also called as modulus, is used for taking out remainders\n",
    "rem = 3 % 3\n",
    "#3. // is as for in division\n",
    "mul = 18//9\n",
    "#4. ** is used for powers\n",
    "po = 3**2"
   ]
  },
  {
   "cell_type": "code",
   "execution_count": 28,
   "id": "41ceb811",
   "metadata": {},
   "outputs": [
    {
     "name": "stdout",
     "output_type": "stream",
     "text": [
      "25.0 0 2 9\n"
     ]
    }
   ],
   "source": [
    "print(div, rem, mul,po)"
   ]
  },
  {
   "cell_type": "markdown",
   "id": "89442bdc",
   "metadata": {},
   "source": [
    "Q4. Create a list of length 10 of your choice containing multiple types of data. Using for loop print the element and its data type."
   ]
  },
  {
   "cell_type": "code",
   "execution_count": 30,
   "id": "76b20bb5",
   "metadata": {},
   "outputs": [],
   "source": [
    "#AnswerQ4:\n",
    "mine_list = ['book', 'guitar', 'piano', 12.00 , '22M', 'finance', 'Curious', 2023, \"MAy17\", '2AM']"
   ]
  },
  {
   "cell_type": "code",
   "execution_count": 66,
   "id": "b2ea3e5d",
   "metadata": {},
   "outputs": [
    {
     "name": "stdout",
     "output_type": "stream",
     "text": [
      "book <class 'str'>\n",
      "guitar <class 'str'>\n",
      "piano <class 'str'>\n",
      "12.0 <class 'float'>\n",
      "22M <class 'str'>\n",
      "finance <class 'str'>\n",
      "Curious <class 'str'>\n",
      "2023 <class 'int'>\n",
      "MAy17 <class 'str'>\n",
      "2AM <class 'str'>\n"
     ]
    }
   ],
   "source": [
    "for i in mine_list:\n",
    "    print(i,type(i))"
   ]
  },
  {
   "cell_type": "markdown",
   "id": "bf433b86",
   "metadata": {},
   "source": [
    "Q5. Using a while loop, verify if the number A is purely divisible by number B and if so then how many\n",
    "times it can be divisible."
   ]
  },
  {
   "cell_type": "code",
   "execution_count": 71,
   "id": "56e3a454",
   "metadata": {},
   "outputs": [
    {
     "name": "stdout",
     "output_type": "stream",
     "text": [
      "A: 24\n",
      "B: 12\n",
      "Yes it is divisible by B it is divisible by b by  2.0 times\n"
     ]
    }
   ],
   "source": [
    "A = int(input('A: '))\n",
    "B = int(input('B: '))\n",
    "while(A % B == 0):\n",
    "    print(\"Yes it is divisible by B\", \"it is divisible by b by \", A/B ,\"times\")\n",
    "    break\n",
    "else:\n",
    "        print(\"NO\")"
   ]
  },
  {
   "cell_type": "code",
   "execution_count": 40,
   "id": "8bb68e31",
   "metadata": {},
   "outputs": [
    {
     "data": {
      "text/plain": [
       "3.0"
      ]
     },
     "execution_count": 40,
     "metadata": {},
     "output_type": "execute_result"
    }
   ],
   "source": [
    "12/4"
   ]
  },
  {
   "cell_type": "markdown",
   "id": "696903be",
   "metadata": {},
   "source": [
    "Q6. Create a list containing 25 int type data. Using for loop and if-else condition print if the element is\n",
    "divisible by 3 or not."
   ]
  },
  {
   "cell_type": "code",
   "execution_count": 51,
   "id": "3bb5d534",
   "metadata": {},
   "outputs": [
    {
     "name": "stdout",
     "output_type": "stream",
     "text": [
      "1 not divisible by 3\n",
      "2 not divisible by 3\n",
      "3 is divisible by 3\n",
      "4 not divisible by 3\n",
      "5 not divisible by 3\n",
      "6 is divisible by 3\n",
      "7 not divisible by 3\n",
      "8 not divisible by 3\n",
      "9 is divisible by 3\n",
      "0 is divisible by 3\n",
      "10 not divisible by 3\n",
      "11 not divisible by 3\n",
      "12 is divisible by 3\n",
      "13 not divisible by 3\n",
      "14 not divisible by 3\n",
      "15 is divisible by 3\n",
      "16 not divisible by 3\n",
      "17 not divisible by 3\n",
      "18 is divisible by 3\n",
      "19 not divisible by 3\n",
      "20 not divisible by 3\n",
      "21 is divisible by 3\n",
      "22 not divisible by 3\n",
      "23 not divisible by 3\n",
      "24 is divisible by 3\n",
      "25 not divisible by 3\n"
     ]
    }
   ],
   "source": [
    "#AnswerQ6\n",
    "datas = [1,2,3,4,5,6,7,8,9,0,10,11,12,13,14,15,16,17,18,19,20,21,22,23,24,25]\n",
    "for i in datas:\n",
    "    if(i % 3 == 0 or i % 3 == 0):\n",
    "        print(i,'is divisible by 3')\n",
    "    else:\n",
    "        print(i,'not divisible by 3')"
   ]
  },
  {
   "cell_type": "markdown",
   "id": "a3d9300e",
   "metadata": {},
   "source": [
    "Q7. What do you understand about mutable and immutable data types? Give examples for both showing\n",
    "this property."
   ]
  },
  {
   "cell_type": "code",
   "execution_count": 52,
   "id": "fcc88c8e",
   "metadata": {},
   "outputs": [],
   "source": [
    "#AnswerQ7 \n",
    "#Mutable data types are data types that can modified by accessing it through it's index. Exaamples : List.\n",
    "stud = ['Anup', 'Goat', 'Baker']\n",
    "#Immutable data types are data types that cannot be modified through index, and it actually copies object data, then assigns new value and the assigns it to previous, Example : string\n",
    "name = 'Anup'"
   ]
  },
  {
   "cell_type": "code",
   "execution_count": 53,
   "id": "6d3329fc",
   "metadata": {},
   "outputs": [
    {
     "data": {
      "text/plain": [
       "['Anup', 'Goat', 'Baker']"
      ]
     },
     "execution_count": 53,
     "metadata": {},
     "output_type": "execute_result"
    }
   ],
   "source": [
    "stud"
   ]
  },
  {
   "cell_type": "code",
   "execution_count": 55,
   "id": "5ecda844",
   "metadata": {},
   "outputs": [],
   "source": [
    "stud[2] = 'Biryani'"
   ]
  },
  {
   "cell_type": "code",
   "execution_count": 56,
   "id": "2d313f57",
   "metadata": {},
   "outputs": [
    {
     "data": {
      "text/plain": [
       "['Anup', 'Goat', 'Biryani']"
      ]
     },
     "execution_count": 56,
     "metadata": {},
     "output_type": "execute_result"
    }
   ],
   "source": [
    "stud #it is mutable"
   ]
  },
  {
   "cell_type": "code",
   "execution_count": 58,
   "id": "adac6891",
   "metadata": {},
   "outputs": [
    {
     "data": {
      "text/plain": [
       "'p'"
      ]
     },
     "execution_count": 58,
     "metadata": {},
     "output_type": "execute_result"
    }
   ],
   "source": [
    "name[3]"
   ]
  },
  {
   "cell_type": "code",
   "execution_count": 59,
   "id": "b204f74a",
   "metadata": {},
   "outputs": [
    {
     "ename": "TypeError",
     "evalue": "'str' object does not support item assignment",
     "output_type": "error",
     "traceback": [
      "\u001b[1;31m---------------------------------------------------------------------------\u001b[0m",
      "\u001b[1;31mTypeError\u001b[0m                                 Traceback (most recent call last)",
      "\u001b[1;32m~\\AppData\\Local\\Temp\\ipykernel_16404\\3518611065.py\u001b[0m in \u001b[0;36m<module>\u001b[1;34m\u001b[0m\n\u001b[1;32m----> 1\u001b[1;33m \u001b[0mname\u001b[0m\u001b[1;33m[\u001b[0m\u001b[1;36m3\u001b[0m\u001b[1;33m]\u001b[0m \u001b[1;33m=\u001b[0m \u001b[1;34m'j'\u001b[0m\u001b[1;33m\u001b[0m\u001b[1;33m\u001b[0m\u001b[0m\n\u001b[0m",
      "\u001b[1;31mTypeError\u001b[0m: 'str' object does not support item assignment"
     ]
    }
   ],
   "source": [
    "name[3] = 'j' #example, it is not immutable"
   ]
  },
  {
   "cell_type": "code",
   "execution_count": null,
   "id": "3339e5fd",
   "metadata": {},
   "outputs": [],
   "source": [
    "#the error code above shown is intentional, to showcase that immutable objects cannot be changed"
   ]
  }
 ],
 "metadata": {
  "kernelspec": {
   "display_name": "Python 3 (ipykernel)",
   "language": "python",
   "name": "python3"
  },
  "language_info": {
   "codemirror_mode": {
    "name": "ipython",
    "version": 3
   },
   "file_extension": ".py",
   "mimetype": "text/x-python",
   "name": "python",
   "nbconvert_exporter": "python",
   "pygments_lexer": "ipython3",
   "version": "3.9.13"
  }
 },
 "nbformat": 4,
 "nbformat_minor": 5
}
