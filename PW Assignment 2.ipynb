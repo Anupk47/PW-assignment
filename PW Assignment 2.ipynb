{
 "cells": [
  {
   "cell_type": "markdown",
   "id": "d36198c5",
   "metadata": {},
   "source": [
    "Q1.How do you comment Code in Python? What are the different types of comment?"
   ]
  },
  {
   "cell_type": "code",
   "execution_count": 19,
   "id": "e9d5d934",
   "metadata": {},
   "outputs": [
    {
     "data": {
      "text/plain": [
       "'these are\\nmultiline comments'"
      ]
     },
     "execution_count": 19,
     "metadata": {},
     "output_type": "execute_result"
    }
   ],
   "source": [
    "#Answer\n",
    "#Mostly two types of comments are used singleline or multiline comments\n",
    "\n",
    "\n",
    "#we use (#) symbol to comment anything like we are doing in this answer\n",
    "#this is a singleline comment\n",
    "\n",
    "#we use \"\"\"\" for multiline comments although it is a string but it is ignored since it is not assigned to variable\n",
    "\"\"\"these are\n",
    "multiline comments\"\"\""
   ]
  },
  {
   "attachments": {},
   "cell_type": "markdown",
   "id": "74b52bd9",
   "metadata": {},
   "source": [
    "Q2. What are variables in Python? How do you declare and assign values to variables?"
   ]
  },
  {
   "cell_type": "code",
   "execution_count": 17,
   "id": "0dd71ceb",
   "metadata": {},
   "outputs": [
    {
     "data": {
      "text/plain": [
       "23"
      ]
     },
     "execution_count": 17,
     "metadata": {},
     "output_type": "execute_result"
    }
   ],
   "source": [
    "#Answer\n",
    "#Varibles are a way to store any data type values inside the variable\n",
    "#to declare a variable we name the variable and equate it to some value this assigns the value to the variable\n",
    "#exmaple:\n",
    "age = 23\n",
    "age"
   ]
  },
  {
   "cell_type": "markdown",
   "id": "6f8a3558",
   "metadata": {},
   "source": [
    "Q3. How do you convert one data type to another in python?"
   ]
  },
  {
   "cell_type": "code",
   "execution_count": 15,
   "id": "18578518",
   "metadata": {},
   "outputs": [
    {
     "data": {
      "text/plain": [
       "str"
      ]
     },
     "execution_count": 15,
     "metadata": {},
     "output_type": "execute_result"
    }
   ],
   "source": [
    "#answer\n",
    "#We use Typecasting \n",
    "#age is of type int\n",
    "age = 32\n",
    "\n",
    "#to typecast to string we use str(age) \n",
    "tostring = str(age)\n",
    "type(tostring)\n"
   ]
  },
  {
   "cell_type": "markdown",
   "id": "fbd724d9",
   "metadata": {},
   "source": [
    "Q4. How do you write and execute a Python script from the command line?"
   ]
  },
  {
   "cell_type": "code",
   "execution_count": 20,
   "id": "2b33b9f7",
   "metadata": {},
   "outputs": [],
   "source": [
    "#Answer\n",
    "#To execute and run a python file named filename.py from command line\n",
    "#we enter the below command in terminal\n",
    "#python filename.py \n",
    "\n",
    "\n"
   ]
  },
  {
   "cell_type": "markdown",
   "id": "8dd1a88b",
   "metadata": {},
   "source": [
    "Q5. Given a list my_list = [1, 2, 3, 4, 5], write the code to slice the list and obtain the sub-list [2, 3]."
   ]
  },
  {
   "cell_type": "code",
   "execution_count": 19,
   "id": "0f67865c",
   "metadata": {},
   "outputs": [
    {
     "data": {
      "text/plain": [
       "[2, 3]"
      ]
     },
     "execution_count": 19,
     "metadata": {},
     "output_type": "execute_result"
    }
   ],
   "source": [
    "#answer\n",
    "my_list = [1,2,3,4,5]\n",
    "my_list[1:3]"
   ]
  },
  {
   "cell_type": "markdown",
   "id": "12000471",
   "metadata": {},
   "source": [
    "Q6. What is a complex number in mathematics, and how is it represented in Python?"
   ]
  },
  {
   "cell_type": "code",
   "execution_count": 25,
   "id": "a4fba459",
   "metadata": {},
   "outputs": [
    {
     "data": {
      "text/plain": [
       "complex"
      ]
     },
     "execution_count": 25,
     "metadata": {},
     "output_type": "execute_result"
    }
   ],
   "source": [
    "#answer\n",
    "#complex numbers are numbers that are having real and imaginary numbers\n",
    "#they are represented by (real +  img * j ) where j denotes the imaginary number\n",
    "type(2+1j)\n"
   ]
  },
  {
   "cell_type": "markdown",
   "id": "9333a8b0",
   "metadata": {},
   "source": [
    "Q7. What is the correct way to declare a variable named age and assign the value 25 to it?"
   ]
  },
  {
   "cell_type": "code",
   "execution_count": 41,
   "id": "0da012e5",
   "metadata": {},
   "outputs": [
    {
     "data": {
      "text/plain": [
       "25"
      ]
     },
     "execution_count": 41,
     "metadata": {},
     "output_type": "execute_result"
    }
   ],
   "source": [
    "#answer\n",
    "\n",
    "#varibale should not have space in between them \n",
    "#variable can contain underscore, alphabets and numbers\n",
    "#reserved words should not be used as variables\n",
    "#cannot start with a number but can end with number\n",
    "#no special characters allowed\n",
    "\n",
    "age = 25\n",
    "age"
   ]
  },
  {
   "cell_type": "markdown",
   "id": "3df8ee5c",
   "metadata": {},
   "source": [
    "Q8. Declare a variable named price and assign the value 9.99 to it. What data type does this variable\n",
    "belong to?"
   ]
  },
  {
   "cell_type": "code",
   "execution_count": 26,
   "id": "f0c1611b",
   "metadata": {},
   "outputs": [
    {
     "data": {
      "text/plain": [
       "float"
      ]
     },
     "execution_count": 26,
     "metadata": {},
     "output_type": "execute_result"
    }
   ],
   "source": [
    "#answer\n",
    "#datatype belongs to float\n",
    "price = 9.99\n",
    "type(price)"
   ]
  },
  {
   "cell_type": "markdown",
   "id": "9904b227",
   "metadata": {},
   "source": [
    "Q9. Create a variable named name and assign your full name to it as a string. How would you print the\n",
    "value of this variable?"
   ]
  },
  {
   "cell_type": "code",
   "execution_count": 5,
   "id": "ace76391",
   "metadata": {},
   "outputs": [
    {
     "name": "stdout",
     "output_type": "stream",
     "text": [
      "Anup Kumar Purty\n"
     ]
    }
   ],
   "source": [
    "#answer\n",
    "name = \"Anup Kumar Purty\"\n",
    "print(name)"
   ]
  },
  {
   "cell_type": "markdown",
   "id": "c501564d",
   "metadata": {},
   "source": [
    "Q10. Given the string \"Hello, World!\", extract the substring \"World\"."
   ]
  },
  {
   "cell_type": "code",
   "execution_count": 36,
   "id": "5cd338e6",
   "metadata": {},
   "outputs": [
    {
     "data": {
      "text/plain": [
       "'World'"
      ]
     },
     "execution_count": 36,
     "metadata": {},
     "output_type": "execute_result"
    }
   ],
   "source": [
    "#answer\n",
    "str = \"Hello, World!\"\n",
    "str[7:12]"
   ]
  },
  {
   "cell_type": "markdown",
   "id": "d579cfb4",
   "metadata": {},
   "source": [
    "Q11. Create a variable named \"is_student\" and assign it a boolean value indicating whether you are\n",
    "currently a student or not."
   ]
  },
  {
   "cell_type": "code",
   "execution_count": 37,
   "id": "ef938776",
   "metadata": {},
   "outputs": [
    {
     "name": "stdout",
     "output_type": "stream",
     "text": [
      "True\n"
     ]
    }
   ],
   "source": [
    "#answer\n",
    "is_student = True\n",
    "print(is_student)"
   ]
  },
  {
   "cell_type": "code",
   "execution_count": null,
   "id": "27acabe0",
   "metadata": {},
   "outputs": [],
   "source": []
  },
  {
   "cell_type": "code",
   "execution_count": null,
   "id": "4083f4af",
   "metadata": {},
   "outputs": [],
   "source": []
  }
 ],
 "metadata": {
  "kernelspec": {
   "display_name": "Python 3 (ipykernel)",
   "language": "python",
   "name": "python3"
  },
  "language_info": {
   "codemirror_mode": {
    "name": "ipython",
    "version": 3
   },
   "file_extension": ".py",
   "mimetype": "text/x-python",
   "name": "python",
   "nbconvert_exporter": "python",
   "pygments_lexer": "ipython3",
   "version": "3.9.13"
  }
 },
 "nbformat": 4,
 "nbformat_minor": 5
}
