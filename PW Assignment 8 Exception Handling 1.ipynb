{
 "cells": [
  {
   "attachments": {},
   "cell_type": "markdown",
   "metadata": {},
   "source": [
    "Q1. What is an Exception in python? Write the difference between Exceptions and syntax errors"
   ]
  },
  {
   "cell_type": "code",
   "execution_count": 8,
   "metadata": {},
   "outputs": [],
   "source": [
    "#answer\n",
    "#exception is an event that occurs during the execution of a program that disrupt the normal flow of program. \n",
    "#when exception occurs, the program stops the execution of the current code \n",
    "#and jumps to a special block of code that handles the exception\n",
    "#example of exception are file not found, division by zero etc\n",
    "\n",
    "\n",
    "#A syntax error, on the other hand occurs when the code you've written does not \n",
    "#follow correct syntax of the programming language. \n",
    "#they are detected by compiler"
   ]
  },
  {
   "attachments": {},
   "cell_type": "markdown",
   "metadata": {},
   "source": [
    "Q2. What happend when Exception is not handled? explain with an example"
   ]
  },
  {
   "cell_type": "code",
   "execution_count": 16,
   "metadata": {},
   "outputs": [
    {
     "ename": "ZeroDivisionError",
     "evalue": "division by zero",
     "output_type": "error",
     "traceback": [
      "\u001b[1;31m---------------------------------------------------------------------------\u001b[0m",
      "\u001b[1;31mZeroDivisionError\u001b[0m                         Traceback (most recent call last)",
      "Cell \u001b[1;32mIn[16], line 9\u001b[0m\n\u001b[0;32m      5\u001b[0m \u001b[39mdef\u001b[39;00m \u001b[39mdivide\u001b[39m(x,y):\n\u001b[0;32m      7\u001b[0m     \u001b[39mreturn\u001b[39;00m x \u001b[39m/\u001b[39m y\n\u001b[1;32m----> 9\u001b[0m divide(\u001b[39m24\u001b[39;49m,\u001b[39m0\u001b[39;49m)\n",
      "Cell \u001b[1;32mIn[16], line 7\u001b[0m, in \u001b[0;36mdivide\u001b[1;34m(x, y)\u001b[0m\n\u001b[0;32m      5\u001b[0m \u001b[39mdef\u001b[39;00m \u001b[39mdivide\u001b[39m(x,y):\n\u001b[1;32m----> 7\u001b[0m     \u001b[39mreturn\u001b[39;00m x \u001b[39m/\u001b[39;49m y\n",
      "\u001b[1;31mZeroDivisionError\u001b[0m: division by zero"
     ]
    }
   ],
   "source": [
    "#answer\n",
    "#if exception is not handled it \n",
    "#halts the execution of program\n",
    "#exception handling is required to prevent the program from terminating abruptly\n",
    "def divide(x,y):\n",
    "    \n",
    "    return x / y\n",
    "\n",
    "divide(24,0)"
   ]
  },
  {
   "attachments": {},
   "cell_type": "markdown",
   "metadata": {},
   "source": [
    "Q3. Which Python statement are used to catch and handle exceptions? explain with an example"
   ]
  },
  {
   "cell_type": "code",
   "execution_count": 19,
   "metadata": {},
   "outputs": [
    {
     "name": "stdout",
     "output_type": "stream",
     "text": [
      "divided by zero\n"
     ]
    }
   ],
   "source": [
    "#answer\n",
    "#in python the try and except statement is used to catch and handle the execptions\n",
    "#the try block contains the code that might raise an exception\n",
    "#the except block cotains the code to handle the execption if it occurs\n",
    "\n",
    "try:\n",
    "    x = int(input('Enter the number: '))\n",
    "    y = 10/x\n",
    "    print('Result',y)\n",
    "except:\n",
    "    print('divided by zero')    \n"
   ]
  },
  {
   "attachments": {},
   "cell_type": "markdown",
   "metadata": {},
   "source": [
    "Q4. Explain with an example:\n",
    "\n",
    "\n",
    "a. try and else\n",
    "\n",
    "\n",
    "b. finally\n",
    "\n",
    "\n",
    "c.. raise"
   ]
  },
  {
   "cell_type": "code",
   "execution_count": 24,
   "metadata": {},
   "outputs": [
    {
     "name": "stdout",
     "output_type": "stream",
     "text": [
      "result 3.3333333333333335\n",
      "Result 3.3333333333333335\n",
      "THis will always run\n",
      "error Age cannot be negative\n"
     ]
    }
   ],
   "source": [
    "#answer\n",
    "#try and else\n",
    "try:\n",
    "    x = int(input('Enter the number'))\n",
    "    y = 10/x\n",
    "except:\n",
    "    print('You are trying to divide by zero')\n",
    "else:\n",
    "    print(\"result\",y)        \n",
    "    \n",
    "    \n",
    "    \n",
    "    \n",
    "#finally\n",
    "#this will always execute regardless of whether an exception occurs or not\n",
    "\n",
    "try:\n",
    "    x = int(input('enter number'))\n",
    "    y = 10/x\n",
    "    print('Result',y)\n",
    "except:\n",
    "    print('You are trying to divide by zero')\n",
    "finally:\n",
    "    print('THis will always run')                \n",
    "\n",
    "\n",
    "#raise\n",
    "def age(age):\n",
    "    if age< 0:\n",
    "        raise ValueError('Age cannot be negative')\n",
    "    return age\n",
    "try:\n",
    "    age = age(-5)\n",
    "except ValueError as e:\n",
    "    print('error',e)    \n"
   ]
  },
  {
   "attachments": {},
   "cell_type": "markdown",
   "metadata": {},
   "source": [
    "Q5. What are custom Exceptions in python? why do we need custom exceptions? explain with an example"
   ]
  },
  {
   "cell_type": "code",
   "execution_count": 28,
   "metadata": {},
   "outputs": [
    {
     "name": "stdout",
     "output_type": "stream",
     "text": [
      "number is:  5\n"
     ]
    }
   ],
   "source": [
    "#answer\n",
    "#custom exception can be defined using a new class \n",
    "# they are more specified way to handle exceptions\n",
    "#we need custom exceptions to:\n",
    "#provide meaningful error messages, effient control flow, more organized\n",
    "\n",
    "class negativemumbererro(Exception):\n",
    "    \"Exception raised for negative numbers\"\n",
    "    pass\n",
    "\n",
    "try:\n",
    "    t = int(input('Enter a number'))\n",
    "    if t < 0:\n",
    "        raise negativemumbererro\n",
    "    else:\n",
    "        print('number is: ',t)\n",
    "        \n",
    "except negativemumbererro:\n",
    "    print('Exception error: the number cannot be negative')            \n",
    " \n",
    "      "
   ]
  },
  {
   "attachments": {},
   "cell_type": "markdown",
   "metadata": {},
   "source": [
    "Q6. Create a custom exception class. Use this class to handle an exception"
   ]
  },
  {
   "cell_type": "code",
   "execution_count": 26,
   "metadata": {},
   "outputs": [
    {
     "name": "stdout",
     "output_type": "stream",
     "text": [
      "Exception occured: invalid age\n"
     ]
    }
   ],
   "source": [
    "#answer\n",
    "class invalidageexception(Exception):\n",
    "    \"raised when input is less than 18\"\n",
    "    pass\n",
    "\n",
    "number = 18\n",
    "\n",
    "try:\n",
    "    x = int(input('Etner age'))\n",
    "    if x < number:\n",
    "        raise invalidageexception\n",
    "    else:\n",
    "        print('Eligible')\n",
    "except invalidageexception:\n",
    "    print('Exception occured: invalid age')  "
   ]
  },
  {
   "cell_type": "code",
   "execution_count": null,
   "metadata": {},
   "outputs": [],
   "source": []
  }
 ],
 "metadata": {
  "kernelspec": {
   "display_name": "Python 3",
   "language": "python",
   "name": "python3"
  },
  "language_info": {
   "codemirror_mode": {
    "name": "ipython",
    "version": 3
   },
   "file_extension": ".py",
   "mimetype": "text/x-python",
   "name": "python",
   "nbconvert_exporter": "python",
   "pygments_lexer": "ipython3",
   "version": "3.11.4"
  },
  "orig_nbformat": 4,
  "vscode": {
   "interpreter": {
    "hash": "c261aea317cc0286b3b3261fbba9abdec21eaa57589985bb7a274bf54d6cc0a7"
   }
  }
 },
 "nbformat": 4,
 "nbformat_minor": 2
}
