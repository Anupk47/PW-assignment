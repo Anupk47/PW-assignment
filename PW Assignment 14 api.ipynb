{
 "cells": [
  {
   "cell_type": "markdown",
   "metadata": {},
   "source": [
    "Q1. What is an API? Give an example where it is used in real life."
   ]
  },
  {
   "cell_type": "code",
   "execution_count": 1,
   "metadata": {},
   "outputs": [],
   "source": [
    "# API (Application Programming Interface) is a set of rules that allows different software applications to communicate with each other.\n",
    "\n",
    "# Real-life Example:\n",
    "# When you book a flight on a travel app (like MakeMyTrip), the app uses APIs to fetch flight details from different airlines' servers in real time."
   ]
  },
  {
   "cell_type": "markdown",
   "metadata": {},
   "source": [
    " Q2. Advantages and Disadvantages of using API"
   ]
  },
  {
   "cell_type": "code",
   "execution_count": 2,
   "metadata": {},
   "outputs": [],
   "source": [
    "#advantages\n",
    "#easy communciation between systems\n",
    "#saves development times\n",
    "#allows integration of third-party services\n",
    "#promotes modular and scalable systems\n",
    "\n",
    "#disadvantages\n",
    "#security risks if not handled well \n",
    "#depends on third party availablity\n",
    "#versioning and updates may break apps\n",
    "#can be complex to design/manage"
   ]
  },
  {
   "cell_type": "markdown",
   "metadata": {},
   "source": [
    "Q3. What is a Web API? Differentiate between API and Web API"
   ]
  },
  {
   "cell_type": "code",
   "execution_count": 3,
   "metadata": {},
   "outputs": [],
   "source": [
    "#A Web API is an API that can be accessed over the internet using HTTP protocol.\n",
    "\n",
    "#API\n",
    "#scope = General Interface between apps\n",
    "#communication = can be local or remote\n",
    "#exampel = python api between functions\n",
    "\n",
    "#Web API\n",
    "#scope = specifically designed for web access\n",
    "#communication = always uses HTTP/HTTPS\n",
    "#example = REST API to fetch weather data online"
   ]
  },
  {
   "cell_type": "markdown",
   "metadata": {},
   "source": [
    "Q4. Explain REST and SOAP Architecture. Mention shortcomings of SOAP."
   ]
  },
  {
   "cell_type": "code",
   "execution_count": 4,
   "metadata": {},
   "outputs": [],
   "source": [
    "#REST (Representational State Transfer)\n",
    "# Lightweight, uses HTTP.\n",
    "# Works with multiple formats: JSON, XML.\n",
    "# Stateless (no session maintained).\n",
    "# Fast and easy to implement.\n",
    "\n",
    "#SOAP(Simple Object Access Protocol)\n",
    "# Protocol-based, uses XML only.\n",
    "# Has strict rules and high security.\n",
    "# Needs more bandwidth.\n",
    "# Often used in enterprise-level applications.\n",
    "\n",
    "#shortcoming of SOAP:\n",
    "# Slower due to XML parsing.\n",
    "# Complex structure.\n",
    "# Requires more resources and bandwidth.\n",
    "# Difficult to debug and test compared to REST."
   ]
  },
  {
   "cell_type": "markdown",
   "metadata": {},
   "source": [
    "Q5. Difference between REST and SOAP"
   ]
  },
  {
   "cell_type": "code",
   "execution_count": 5,
   "metadata": {},
   "outputs": [],
   "source": [
    "#REST \n",
    "#Type = Architecture style\n",
    "#Format = JSON, XML, plain text\n",
    "#Speed = Fast\n",
    "#flexiblity = More flexible and scalable\n",
    "#security = Basic via HTTPS\n",
    "#use case = Mobile apps, web apps, microservices\n",
    "\n",
    "#SOAP\n",
    "#type = Protocol \n",
    "#format = XML only\n",
    "#speed = Slower\n",
    "#flexiblity = Rigid and strict\n",
    "#security = built in standard security\n",
    "#use case= enterprise apps (banking, payment)"
   ]
  },
  {
   "cell_type": "code",
   "execution_count": null,
   "metadata": {},
   "outputs": [],
   "source": []
  },
  {
   "cell_type": "markdown",
   "metadata": {},
   "source": [
    "#"
   ]
  }
 ],
 "metadata": {
  "kernelspec": {
   "display_name": "Python 3",
   "language": "python",
   "name": "python3"
  },
  "language_info": {
   "codemirror_mode": {
    "name": "ipython",
    "version": 3
   },
   "file_extension": ".py",
   "mimetype": "text/x-python",
   "name": "python",
   "nbconvert_exporter": "python",
   "pygments_lexer": "ipython3",
   "version": "3.11.4"
  }
 },
 "nbformat": 4,
 "nbformat_minor": 2
}
