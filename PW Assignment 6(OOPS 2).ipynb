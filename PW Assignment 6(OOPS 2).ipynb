{
 "cells": [
  {
   "attachments": {},
   "cell_type": "markdown",
   "metadata": {},
   "source": [
    "Q1. What is Abstraction in OOps? Explain with an example."
   ]
  },
  {
   "cell_type": "code",
   "execution_count": 1,
   "metadata": {},
   "outputs": [],
   "source": [
    "#answer \n",
    "#abstractn is used to hide complex implementation details in python\n",
    "from abc import ABC,abstractmethod\n",
    "\n",
    "class shape(ABC):\n",
    "    \n",
    "    @abstractmethod\n",
    "    def area(self):\n",
    "        pass\n",
    "    @abstractmethod\n",
    "    def perimeter(self):\n",
    "        pass\n",
    "\n",
    "class circle(shape):\n",
    "    \n",
    "    def area(self):\n",
    "        return \"this is area\"  \n",
    "    def perimeter(self):\n",
    "        return \"this is perimeter\"\n",
    "   \n",
    "    "
   ]
  },
  {
   "cell_type": "code",
   "execution_count": 2,
   "metadata": {},
   "outputs": [
    {
     "data": {
      "text/plain": [
       "'this is perimeter'"
      ]
     },
     "execution_count": 2,
     "metadata": {},
     "output_type": "execute_result"
    }
   ],
   "source": [
    "my_circle = circle()\n",
    "my_circle.perimeter()\n"
   ]
  },
  {
   "attachments": {},
   "cell_type": "markdown",
   "metadata": {},
   "source": [
    "Q2. Differentiate between Abstraction and Encapsulation. Explain with an example."
   ]
  },
  {
   "cell_type": "code",
   "execution_count": 20,
   "metadata": {},
   "outputs": [],
   "source": [
    "#Abstraction is used to hide complex implementation details \n",
    "#exmaple \n",
    "from abc import ABC, abstractmethod\n",
    "\n",
    "class shape(ABC):\n",
    "    \n",
    "    @abstractmethod\n",
    "    def area(self):\n",
    "        pass\n",
    "    @abstractmethod\n",
    "    def perimeter(self):\n",
    "        pass\n",
    "    \n",
    "class Triangle(shape):\n",
    "    \n",
    "    def area(self):\n",
    "        \"this is area\"    \n",
    "        \n",
    "    def perimeter(self):\n",
    "        return \"this is perimeter\"    \n",
    "\n",
    "newen = Triangle()\n",
    "\n",
    "\n",
    "        "
   ]
  },
  {
   "cell_type": "code",
   "execution_count": 21,
   "metadata": {},
   "outputs": [
    {
     "data": {
      "text/plain": [
       "900000"
      ]
     },
     "execution_count": 21,
     "metadata": {},
     "output_type": "execute_result"
    }
   ],
   "source": [
    "#encapsulation it bundles the Data and it's method into a single unit\n",
    "#it does not let outside function to access the methods/variables inside class\n",
    "\n",
    "class emlpoyee:\n",
    "    \n",
    "    def __init__(self,name,salary):\n",
    "        self.__name = name\n",
    "        self.__salary = salary\n",
    "        \n",
    "    def get_name(self):\n",
    "        return self.__name\n",
    "    \n",
    "    def get_salary(self):\n",
    "        return self.__salary    \n",
    "\n",
    "emp = emlpoyee('Anup',900000)        \n",
    "emp.get_name()        \n",
    "emp.get_salary()"
   ]
  },
  {
   "attachments": {},
   "cell_type": "markdown",
   "metadata": {},
   "source": [
    "Q3. What is abc module in python? Why is it used?"
   ]
  },
  {
   "cell_type": "code",
   "execution_count": 22,
   "metadata": {},
   "outputs": [],
   "source": [
    "\n",
    "#abc module stands for abstract base class\n",
    "\n",
    "# which is used to define a strict structure or an interface\n",
    "\n",
    "#such that subclasses adheres to the structure that is given in base abstract class\n"
   ]
  },
  {
   "attachments": {},
   "cell_type": "markdown",
   "metadata": {},
   "source": [
    "Q4. How can we achieve data abstraction?"
   ]
  },
  {
   "cell_type": "code",
   "execution_count": 23,
   "metadata": {},
   "outputs": [
    {
     "data": {
      "text/plain": [
       "25"
      ]
     },
     "execution_count": 23,
     "metadata": {},
     "output_type": "execute_result"
    }
   ],
   "source": [
    "#in python data abstraction is the process of hiding the real implementaion of an application from the user\n",
    "\n",
    "#we can acheive data abstraction in python by using abstract class and methods\n",
    "\n",
    "from abc import ABC, abstractmethod\n",
    "\n",
    "class llgm(ABC):\n",
    "    pass\n",
    "\n",
    "class square(llgm):\n",
    "    \n",
    "    length = 5\n",
    "    def area(self):\n",
    "        return self.length * self.length\n",
    "    \n",
    "\n",
    "my_sq = square()   \n",
    "my_sq.area()\n",
    "\n",
    "    "
   ]
  },
  {
   "attachments": {},
   "cell_type": "markdown",
   "metadata": {},
   "source": [
    "Q5. Can we create an instance of an abstract class? Explain your answer."
   ]
  },
  {
   "cell_type": "code",
   "execution_count": 24,
   "metadata": {},
   "outputs": [
    {
     "ename": "TypeError",
     "evalue": "Can't instantiate abstract class Nifty with abstract method Nifty50",
     "output_type": "error",
     "traceback": [
      "\u001b[1;31m---------------------------------------------------------------------------\u001b[0m",
      "\u001b[1;31mTypeError\u001b[0m                                 Traceback (most recent call last)",
      "Cell \u001b[1;32mIn[24], line 8\u001b[0m\n\u001b[0;32m      4\u001b[0m     \u001b[39m@abstractmethod\u001b[39m\n\u001b[0;32m      5\u001b[0m     \u001b[39mdef\u001b[39;00m \u001b[39mNifty50\u001b[39m(\u001b[39mself\u001b[39m):\n\u001b[0;32m      6\u001b[0m         \u001b[39mreturn\u001b[39;00m \u001b[39m\"\u001b[39m\u001b[39mthis is nifty50\u001b[39m\u001b[39m\"\u001b[39m\n\u001b[1;32m----> 8\u001b[0m stocks \u001b[39m=\u001b[39m Nifty()   \n",
      "\u001b[1;31mTypeError\u001b[0m: Can't instantiate abstract class Nifty with abstract method Nifty50"
     ]
    }
   ],
   "source": [
    "from abc import ABC,abstractmethod\n",
    "\n",
    "class Nifty(ABC):\n",
    "    @abstractmethod\n",
    "    def Nifty50(self):\n",
    "        return \"this is nifty50\"\n",
    "\n",
    "stocks = Nifty()   "
   ]
  },
  {
   "cell_type": "code",
   "execution_count": 25,
   "metadata": {},
   "outputs": [],
   "source": [
    "#no we cannot create an instance of an abstract class we have to make a subclass containing \n",
    "#all the abstract method provided in base class"
   ]
  },
  {
   "cell_type": "code",
   "execution_count": null,
   "metadata": {},
   "outputs": [],
   "source": []
  }
 ],
 "metadata": {
  "kernelspec": {
   "display_name": "Python 3",
   "language": "python",
   "name": "python3"
  },
  "language_info": {
   "codemirror_mode": {
    "name": "ipython",
    "version": 3
   },
   "file_extension": ".py",
   "mimetype": "text/x-python",
   "name": "python",
   "nbconvert_exporter": "python",
   "pygments_lexer": "ipython3",
   "version": "3.11.4"
  },
  "orig_nbformat": 4,
  "vscode": {
   "interpreter": {
    "hash": "c261aea317cc0286b3b3261fbba9abdec21eaa57589985bb7a274bf54d6cc0a7"
   }
  }
 },
 "nbformat": 4,
 "nbformat_minor": 2
}
